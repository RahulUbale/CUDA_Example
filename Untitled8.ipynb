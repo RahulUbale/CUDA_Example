{
  "nbformat": 4,
  "nbformat_minor": 0,
  "metadata": {
    "colab": {
      "provenance": [],
      "gpuType": "T4",
      "authorship_tag": "ABX9TyMfpANS50awPn9kJULK+tTJ",
      "include_colab_link": true
    },
    "kernelspec": {
      "name": "python3",
      "display_name": "Python 3"
    },
    "language_info": {
      "name": "python"
    },
    "accelerator": "GPU"
  },
  "cells": [
    {
      "cell_type": "markdown",
      "metadata": {
        "id": "view-in-github",
        "colab_type": "text"
      },
      "source": [
        "<a href=\"https://colab.research.google.com/github/RahulUbale/CUDA_Example/blob/main/Untitled8.ipynb\" target=\"_parent\"><img src=\"https://colab.research.google.com/assets/colab-badge.svg\" alt=\"Open In Colab\"/></a>"
      ]
    },
    {
      "cell_type": "code",
      "execution_count": 4,
      "metadata": {
        "colab": {
          "base_uri": "https://localhost:8080/"
        },
        "id": "aNeJXqIGFG9R",
        "outputId": "c21c54a5-face-41af-f9af-eb9a874c9004"
      },
      "outputs": [
        {
          "output_type": "stream",
          "name": "stdout",
          "text": [
            "Requirement already satisfied: numba in /usr/local/lib/python3.10/dist-packages (0.60.0)\n",
            "Requirement already satisfied: numpy in /usr/local/lib/python3.10/dist-packages (1.26.4)\n",
            "Requirement already satisfied: llvmlite<0.44,>=0.43.0dev0 in /usr/local/lib/python3.10/dist-packages (from numba) (0.43.0)\n"
          ]
        }
      ],
      "source": [
        "!pip install numba numpy"
      ]
    },
    {
      "cell_type": "code",
      "source": [
        "import numpy as np\n",
        "from numba import cuda\n",
        "\n",
        "# CUDA kernel to sum array elements\n",
        "@cuda.jit\n",
        "def sum_array_kernel(arr, result):\n",
        "    start = cuda.grid(1)\n",
        "    stride = cuda.gridsize(1)\n",
        "    temp = 0\n",
        "\n",
        "    for i in range(start, arr.size, stride):\n",
        "        temp += arr[i]\n",
        "\n",
        "    # Use atomic operations to avoid race conditions\n",
        "    cuda.atomic.add(result, 0, temp)\n",
        "\n",
        "# Initialize array and result\n",
        "array_size = 1000\n",
        "h_array = np.ones(array_size, dtype=np.int32)\n",
        "h_result = np.array([0], dtype=np.int32)\n",
        "\n",
        "# Allocate device memory\n",
        "d_array = cuda.to_device(h_array)\n",
        "d_result = cuda.to_device(h_result)\n",
        "\n",
        "# Launch kernel\n",
        "threads_per_block = 256\n",
        "blocks_per_grid = (array_size + (threads_per_block - 1)) // threads_per_block\n",
        "sum_array_kernel[blocks_per_grid, threads_per_block](d_array, d_result)\n",
        "\n",
        "# Copy result back to host\n",
        "d_result.copy_to_host(h_result)\n",
        "\n",
        "print(\"Sum of array elements:\", h_result[0])\n"
      ],
      "metadata": {
        "colab": {
          "base_uri": "https://localhost:8080/"
        },
        "id": "GYZtLnrKFPNy",
        "outputId": "911ba78e-8a29-4bb3-ca00-fe262c6c195a"
      },
      "execution_count": 5,
      "outputs": [
        {
          "output_type": "stream",
          "name": "stderr",
          "text": [
            "/usr/local/lib/python3.10/dist-packages/numba/cuda/dispatcher.py:536: NumbaPerformanceWarning: Grid size 4 will likely result in GPU under-utilization due to low occupancy.\n",
            "  warn(NumbaPerformanceWarning(msg))\n"
          ]
        },
        {
          "output_type": "stream",
          "name": "stdout",
          "text": [
            "Sum of array elements: 1000\n"
          ]
        }
      ]
    }
  ]
}